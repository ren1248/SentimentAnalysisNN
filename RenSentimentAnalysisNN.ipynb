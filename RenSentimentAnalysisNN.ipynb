{
 "cells": [
  {
   "cell_type": "markdown",
   "id": "ec239b1c-652e-4ec7-8ae8-e22b1f38f1c6",
   "metadata": {},
   "source": [
    "# Sentiment analysis using neural networks"
   ]
  },
  {
   "cell_type": "markdown",
   "id": "287ef908-b1be-45db-8aa7-e65409595c8a",
   "metadata": {},
   "source": [
    "## Import libraries"
   ]
  },
  {
   "cell_type": "code",
   "execution_count": 1,
   "id": "a3a27e21-24fb-4220-adf4-95a42725b4f6",
   "metadata": {},
   "outputs": [
    {
     "name": "stdout",
     "output_type": "stream",
     "text": [
      "WARNING:tensorflow:From C:\\Users\\renis\\anaconda3\\envs\\proj\\lib\\site-packages\\keras\\src\\losses.py:2976: The name tf.losses.sparse_softmax_cross_entropy is deprecated. Please use tf.compat.v1.losses.sparse_softmax_cross_entropy instead.\n",
      "\n"
     ]
    }
   ],
   "source": [
    "\n",
    "import numpy as np\n",
    "import pandas as pd\n",
    "from sklearn.model_selection import train_test_split\n",
    "from sklearn.preprocessing import LabelEncoder\n",
    "from tensorflow.keras.models import Sequential\n",
    "from tensorflow.keras.layers import Dense, Embedding, Flatten\n",
    "from tensorflow.keras.preprocessing.text import Tokenizer\n",
    "from tensorflow.keras.preprocessing.sequence import pad_sequences\n"
   ]
  },
  {
   "cell_type": "markdown",
   "id": "e6d60973-35dc-486b-9819-289bfa67ee59",
   "metadata": {},
   "source": [
    "## Functionality related to text classification, including model construction, training, evaluation, and prediction."
   ]
  },
  {
   "cell_type": "code",
   "execution_count": 2,
   "id": "867790c3-a552-4d00-a115-bb22538b7bdb",
   "metadata": {},
   "outputs": [],
   "source": [
    "\n",
    "class TextClassifier:\n",
    "    def __init__(self, max_words=1000, max_sequence_length=100):\n",
    "        self.max_words = max_words\n",
    "        self.max_sequence_length = max_sequence_length\n",
    "        self.tokenizer = Tokenizer(num_words=self.max_words)\n",
    "        self.model = self.build_model()\n",
    "\n",
    "    def build_model(self):\n",
    "        model = Sequential()\n",
    "        model.add(Embedding(self.max_words, 64, input_length=self.max_sequence_length))\n",
    "        model.add(Flatten())\n",
    "        model.add(Dense(64, activation='relu'))\n",
    "        model.add(Dense(3, activation='softmax'))  # 3 classes: negative, neutral, positive\n",
    "        model.compile(optimizer='adam', loss='sparse_categorical_crossentropy', metrics=['accuracy'])\n",
    "        return model\n",
    "\n",
    "    def preprocess_text(self, texts):\n",
    "        sequences = self.tokenizer.texts_to_sequences(texts)\n",
    "        return pad_sequences(sequences, maxlen=self.max_sequence_length)\n",
    "\n",
    "    def train(self, X_train, y_train, epochs=10, batch_size=32):\n",
    "        self.tokenizer.fit_on_texts(X_train)\n",
    "        X_train = self.preprocess_text(X_train)\n",
    "        self.model.fit(X_train, y_train, epochs=epochs, batch_size=batch_size, validation_split=0.2)\n",
    "\n",
    "    def evaluate(self, X_test, y_test):\n",
    "        X_test = self.preprocess_text(X_test)\n",
    "        loss, accuracy = self.model.evaluate(X_test, y_test)\n",
    "        print(f\"Test Loss: {loss:.4f}, Test Accuracy: {accuracy:.4f}\")\n",
    "\n",
    "    def predict(self, texts):\n",
    "        texts = self.preprocess_text(texts)\n",
    "        predictions = np.argmax(self.model.predict(texts), axis=-1)\n",
    "        return predictions\n"
   ]
  },
  {
   "cell_type": "markdown",
   "id": "a13b084b-fac4-457b-add2-06b0fb873903",
   "metadata": {},
   "source": [
    "## Read dataframe"
   ]
  },
  {
   "cell_type": "markdown",
   "id": "aa0787d3-9f1b-42b7-89c4-eac938d1dea3",
   "metadata": {},
   "source": [
    "### Note the labels 0: \"Negative\", 1: \"Neutral\", 2: \"Positive\""
   ]
  },
  {
   "cell_type": "code",
   "execution_count": 3,
   "id": "8a34ef60-210c-4a2d-8dbd-a0fa0372dbc3",
   "metadata": {},
   "outputs": [
    {
     "data": {
      "text/html": [
       "<div>\n",
       "<style scoped>\n",
       "    .dataframe tbody tr th:only-of-type {\n",
       "        vertical-align: middle;\n",
       "    }\n",
       "\n",
       "    .dataframe tbody tr th {\n",
       "        vertical-align: top;\n",
       "    }\n",
       "\n",
       "    .dataframe thead th {\n",
       "        text-align: right;\n",
       "    }\n",
       "</style>\n",
       "<table border=\"1\" class=\"dataframe\">\n",
       "  <thead>\n",
       "    <tr style=\"text-align: right;\">\n",
       "      <th></th>\n",
       "      <th>text</th>\n",
       "      <th>label</th>\n",
       "    </tr>\n",
       "  </thead>\n",
       "  <tbody>\n",
       "    <tr>\n",
       "      <th>0</th>\n",
       "      <td>Wow, this is absolutely breathtaking! You're i...</td>\n",
       "      <td>2</td>\n",
       "    </tr>\n",
       "    <tr>\n",
       "      <th>1</th>\n",
       "      <td>I can't get over how amazing your skills are. ...</td>\n",
       "      <td>2</td>\n",
       "    </tr>\n",
       "    <tr>\n",
       "      <th>2</th>\n",
       "      <td>This is the kind of content that makes me love...</td>\n",
       "      <td>2</td>\n",
       "    </tr>\n",
       "    <tr>\n",
       "      <th>3</th>\n",
       "      <td>I'm in awe of your creativity. How do you come...</td>\n",
       "      <td>2</td>\n",
       "    </tr>\n",
       "    <tr>\n",
       "      <th>4</th>\n",
       "      <td>You've outdone yourself once again. I have so ...</td>\n",
       "      <td>2</td>\n",
       "    </tr>\n",
       "  </tbody>\n",
       "</table>\n",
       "</div>"
      ],
      "text/plain": [
       "                                                text  label\n",
       "0  Wow, this is absolutely breathtaking! You're i...      2\n",
       "1  I can't get over how amazing your skills are. ...      2\n",
       "2  This is the kind of content that makes me love...      2\n",
       "3  I'm in awe of your creativity. How do you come...      2\n",
       "4  You've outdone yourself once again. I have so ...      2"
      ]
     },
     "execution_count": 3,
     "metadata": {},
     "output_type": "execute_result"
    }
   ],
   "source": [
    "\n",
    "df = pd.read_csv(\"GoEmo.csv\", sep = ',', header = None, names = ['text', 'label'])\n",
    "df.head()\n"
   ]
  },
  {
   "cell_type": "code",
   "execution_count": 4,
   "id": "1ec5aac1-2bbf-471f-a04c-933ea2758e98",
   "metadata": {},
   "outputs": [
    {
     "name": "stdout",
     "output_type": "stream",
     "text": [
      "label\n",
      "2    600\n",
      "0    550\n",
      "1    250\n",
      "Name: count, dtype: int64\n"
     ]
    }
   ],
   "source": [
    "#df['label'] = df['label'].astype(int)\n",
    "print(df['label'].value_counts())"
   ]
  },
  {
   "cell_type": "markdown",
   "id": "8dc1d585-c0fa-4dc5-ba57-30f641dee244",
   "metadata": {},
   "source": [
    "## Splitting stratified data "
   ]
  },
  {
   "cell_type": "code",
   "execution_count": 5,
   "id": "eb6581fe-907b-4a71-9e02-7f5ddcd5a198",
   "metadata": {},
   "outputs": [],
   "source": [
    "\n",
    "X_train, X_test, y_train, y_test = train_test_split(df['text'], df['label'], test_size=0.3, stratify=df['label'], random_state=42)\n"
   ]
  },
  {
   "cell_type": "markdown",
   "id": "60fa3d4f-132a-41bb-8ff7-cb99c60f9935",
   "metadata": {},
   "source": [
    "## Encode labels"
   ]
  },
  {
   "cell_type": "code",
   "execution_count": 6,
   "id": "a88191df-ac10-494d-ad0f-13d8f5000bf6",
   "metadata": {},
   "outputs": [],
   "source": [
    "\n",
    "encoder = LabelEncoder()\n",
    "y_train_encoded = encoder.fit_transform(y_train)\n",
    "y_test_encoded = encoder.transform(y_test)\n"
   ]
  },
  {
   "cell_type": "markdown",
   "id": "7dcc9c0e-e1a9-48e4-9549-dddacc84f85b",
   "metadata": {},
   "source": [
    "## Initialize and train the model"
   ]
  },
  {
   "cell_type": "code",
   "execution_count": 7,
   "id": "22878924-cfe0-4eeb-910b-f35323db958e",
   "metadata": {},
   "outputs": [
    {
     "name": "stdout",
     "output_type": "stream",
     "text": [
      "WARNING:tensorflow:From C:\\Users\\renis\\anaconda3\\envs\\proj\\lib\\site-packages\\keras\\src\\backend.py:873: The name tf.get_default_graph is deprecated. Please use tf.compat.v1.get_default_graph instead.\n",
      "\n",
      "WARNING:tensorflow:From C:\\Users\\renis\\anaconda3\\envs\\proj\\lib\\site-packages\\keras\\src\\optimizers\\__init__.py:309: The name tf.train.Optimizer is deprecated. Please use tf.compat.v1.train.Optimizer instead.\n",
      "\n",
      "Epoch 1/10\n",
      "WARNING:tensorflow:From C:\\Users\\renis\\anaconda3\\envs\\proj\\lib\\site-packages\\keras\\src\\utils\\tf_utils.py:492: The name tf.ragged.RaggedTensorValue is deprecated. Please use tf.compat.v1.ragged.RaggedTensorValue instead.\n",
      "\n",
      "WARNING:tensorflow:From C:\\Users\\renis\\anaconda3\\envs\\proj\\lib\\site-packages\\keras\\src\\engine\\base_layer_utils.py:384: The name tf.executing_eagerly_outside_functions is deprecated. Please use tf.compat.v1.executing_eagerly_outside_functions instead.\n",
      "\n",
      "25/25 [==============================] - 1s 12ms/step - loss: 1.0485 - accuracy: 0.4388 - val_loss: 1.0475 - val_accuracy: 0.4235\n",
      "Epoch 2/10\n",
      "25/25 [==============================] - 0s 5ms/step - loss: 0.9478 - accuracy: 0.5995 - val_loss: 0.9500 - val_accuracy: 0.5765\n",
      "Epoch 3/10\n",
      "25/25 [==============================] - 0s 4ms/step - loss: 0.7553 - accuracy: 0.7385 - val_loss: 0.8108 - val_accuracy: 0.6378\n",
      "Epoch 4/10\n",
      "25/25 [==============================] - 0s 4ms/step - loss: 0.5150 - accuracy: 0.8074 - val_loss: 0.6687 - val_accuracy: 0.7347\n",
      "Epoch 5/10\n",
      "25/25 [==============================] - 0s 5ms/step - loss: 0.3395 - accuracy: 0.8827 - val_loss: 0.5576 - val_accuracy: 0.7653\n",
      "Epoch 6/10\n",
      "25/25 [==============================] - 0s 5ms/step - loss: 0.2058 - accuracy: 0.9503 - val_loss: 0.4734 - val_accuracy: 0.8061\n",
      "Epoch 7/10\n",
      "25/25 [==============================] - 0s 4ms/step - loss: 0.1092 - accuracy: 0.9949 - val_loss: 0.4115 - val_accuracy: 0.8520\n",
      "Epoch 8/10\n",
      "25/25 [==============================] - 0s 5ms/step - loss: 0.0596 - accuracy: 0.9974 - val_loss: 0.3817 - val_accuracy: 0.8571\n",
      "Epoch 9/10\n",
      "25/25 [==============================] - 0s 4ms/step - loss: 0.0363 - accuracy: 0.9987 - val_loss: 0.3582 - val_accuracy: 0.8622\n",
      "Epoch 10/10\n",
      "25/25 [==============================] - 0s 5ms/step - loss: 0.0228 - accuracy: 0.9987 - val_loss: 0.3546 - val_accuracy: 0.8673\n"
     ]
    }
   ],
   "source": [
    "\n",
    "classifier = TextClassifier()\n",
    "classifier.train(X_train, y_train_encoded)\n"
   ]
  },
  {
   "cell_type": "markdown",
   "id": "efb7ad04-9fbe-44a4-a22b-c5cfd1fa788c",
   "metadata": {},
   "source": [
    "## Evaluate the model"
   ]
  },
  {
   "cell_type": "code",
   "execution_count": 8,
   "id": "2fda29d7-ce26-410c-b028-8c0f4a26f164",
   "metadata": {},
   "outputs": [
    {
     "name": "stdout",
     "output_type": "stream",
     "text": [
      "14/14 [==============================] - 0s 2ms/step - loss: 0.4216 - accuracy: 0.8500\n",
      "Test Loss: 0.4216, Test Accuracy: 0.8500\n"
     ]
    }
   ],
   "source": [
    "\n",
    "classifier.evaluate(X_test, y_test_encoded)\n"
   ]
  },
  {
   "cell_type": "markdown",
   "id": "4e1ea6c4-c755-43fe-878a-624569ba6798",
   "metadata": {},
   "source": [
    "## Example predictions"
   ]
  },
  {
   "cell_type": "code",
   "execution_count": 9,
   "id": "d077084f-6034-43c9-ab81-11bed3227af0",
   "metadata": {},
   "outputs": [],
   "source": [
    "\n",
    "label_meanings = {0: \"Negative\", 1: \"Neutral\", 2: \"Positive\"}\n"
   ]
  },
  {
   "cell_type": "code",
   "execution_count": 15,
   "id": "8c5231ac-a70e-46bf-9856-476a05852cb0",
   "metadata": {},
   "outputs": [
    {
     "name": "stdout",
     "output_type": "stream",
     "text": [
      "1/1 [==============================] - 0s 30ms/step\n",
      "Predictions: [2 0 1]\n"
     ]
    }
   ],
   "source": [
    "\n",
    "new_texts = [\"This is an awesome product.\", \"I'm not satisfied with the service.\", \"The movie left me wondering with more questions than answers.\"]\n",
    "predictions = classifier.predict(new_texts)\n",
    "print(\"Predictions:\", predictions)\n"
   ]
  },
  {
   "cell_type": "code",
   "execution_count": 20,
   "id": "9d068a12-0792-4cad-930f-ecbc71fa963d",
   "metadata": {},
   "outputs": [
    {
     "name": "stdout",
     "output_type": "stream",
     "text": [
      "Predicted Label: 2 Meaning: Positive\n",
      "Predicted Label: 0 Meaning: Negative\n",
      "Predicted Label: 1 Meaning: Neutral\n"
     ]
    }
   ],
   "source": [
    "\n",
    "for prediction in predictions:\n",
    "    meaning = label_meanings[prediction]\n",
    "    print(\"Predicted Label:\", prediction, \"Meaning:\", meaning)\n"
   ]
  },
  {
   "cell_type": "code",
   "execution_count": 18,
   "id": "4641cc4b-e589-42c5-841c-6554d4fb2f22",
   "metadata": {},
   "outputs": [
    {
     "name": "stdout",
     "output_type": "stream",
     "text": [
      "1/1 [==============================] - 0s 20ms/step\n",
      "Predictions: [2 0 1]\n"
     ]
    }
   ],
   "source": [
    "\n",
    "new_texts2 = [\"I have confidence that joyous actions have a pleasant outcome.\", \"I found the service to be deplorable making me reluctant for a revisit.\", \"Being a mystery, the program left me curious to know more.\"]\n",
    "predictions2 = classifier.predict(new_texts2)\n",
    "print(\"Predictions:\", predictions2)\n"
   ]
  },
  {
   "cell_type": "code",
   "execution_count": 19,
   "id": "c962809e-fd11-46bd-bbcf-8e9b331b6b56",
   "metadata": {},
   "outputs": [
    {
     "name": "stdout",
     "output_type": "stream",
     "text": [
      "Predicted Label: 2 Meaning: Positive\n",
      "Predicted Label: 0 Meaning: Negative\n",
      "Predicted Label: 1 Meaning: Neutral\n"
     ]
    }
   ],
   "source": [
    "\n",
    "for prediction in predictions2:\n",
    "    meaning = label_meanings[prediction]\n",
    "    print(\"Predicted Label:\", prediction, \"Meaning:\", meaning)\n"
   ]
  },
  {
   "cell_type": "code",
   "execution_count": null,
   "id": "120d0339-c04b-4fac-9114-1c574947c168",
   "metadata": {},
   "outputs": [],
   "source": []
  }
 ],
 "metadata": {
  "kernelspec": {
   "display_name": "Python 3 (ipykernel)",
   "language": "python",
   "name": "python3"
  },
  "language_info": {
   "codemirror_mode": {
    "name": "ipython",
    "version": 3
   },
   "file_extension": ".py",
   "mimetype": "text/x-python",
   "name": "python",
   "nbconvert_exporter": "python",
   "pygments_lexer": "ipython3",
   "version": "3.9.18"
  }
 },
 "nbformat": 4,
 "nbformat_minor": 5
}
